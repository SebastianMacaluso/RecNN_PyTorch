{
 "cells": [
  {
   "cell_type": "code",
   "execution_count": 3,
   "metadata": {},
   "outputs": [],
   "source": [
    "#!/usr/bin/env python\n",
    "## USAGE --- python read_h5.py\n",
    "from __future__ import print_function\n",
    "import sys\n",
    "import h5py\n",
    "import pandas\n",
    "import sys, os, copy\n",
    "os.environ['TERM'] = 'linux'\n",
    "import numpy as np\n",
    "import pickle"
   ]
  },
  {
   "cell_type": "code",
   "execution_count": 4,
   "metadata": {},
   "outputs": [
    {
     "data": {
      "text/plain": [
       "0"
      ]
     },
     "execution_count": 4,
     "metadata": {},
     "output_type": "execute_result"
    }
   ],
   "source": [
    "os.system(\"mkdir -p in_data\")\n",
    "os.system(\"mkdir -p in_jets\")"
   ]
  },
  {
   "cell_type": "code",
   "execution_count": 2,
   "metadata": {},
   "outputs": [],
   "source": [
    "### This function reads the h5 files and saves the jets in numpy arrays\n",
    "def h5_to_npy(filename,Njets):\n",
    "    file = pandas.HDFStore(filename)\n",
    "    jets=np.array(file.select(\"table\",start=0,stop=Njets))\n",
    "    jets2=jets[:,0:800].reshape((Njets,200,4))\n",
    "#     print('jets2=',jets2[0])\n",
    "    labels=jets[:,805:806]\n",
    "#     print('labels=',labels)\n",
    "    npy_jets=[]\n",
    "    for i in range(len(jets2)):\n",
    "#         print('~np.all(jets2[i] == 0, axis=1)=',~np.all(jets2[i] == 0, axis=1))\n",
    "        # Get the index of non-zero entries\n",
    "        nonzero_entries=jets2[i][~np.all(jets2[i] == 0, axis=1)]\n",
    "        npy_jets.append([nonzero_entries,0 if labels[i] == 0 else 1])\n",
    "    return npy_jets"
   ]
  },
  {
   "cell_type": "markdown",
   "metadata": {},
   "source": [
    "### Check True labels"
   ]
  },
  {
   "cell_type": "code",
   "execution_count": 3,
   "metadata": {},
   "outputs": [],
   "source": [
    "test_data=h5_to_npy('in_data/test.h5',400000)"
   ]
  },
  {
   "cell_type": "code",
   "execution_count": 14,
   "metadata": {},
   "outputs": [
    {
     "name": "stdout",
     "output_type": "stream",
     "text": [
      "test data shape= (400000, 2)\n",
      "Number of sg and bg jets= {0: 199974, 1: 200026}\n"
     ]
    },
    {
     "data": {
      "text/plain": [
       "array([0, 0, 0, 0, 0, 0, 0, 0, 0, 0, 1, 1, 1, 1, 1, 1, 1, 1, 1, 1],\n",
       "      dtype=object)"
      ]
     },
     "execution_count": 14,
     "metadata": {},
     "output_type": "execute_result"
    }
   ],
   "source": [
    "print('test data shape=',np.shape(test_data))\n",
    "test_data=np.asarray(test_data)\n",
    "unique, counts = np.unique(test_data[:,1], return_counts=True)\n",
    "print('Number of sg and bg jets=',dict(zip(unique, counts)))\n",
    "test_data[20:40,1]"
   ]
  },
  {
   "cell_type": "code",
   "execution_count": 16,
   "metadata": {},
   "outputs": [],
   "source": [
    "# h5_to_npy('in_data/val.h5',1)"
   ]
  },
  {
   "cell_type": "markdown",
   "metadata": {},
   "source": [
    "### Read .h5 and save np arrays"
   ]
  },
  {
   "cell_type": "code",
   "execution_count": 3,
   "metadata": {},
   "outputs": [],
   "source": [
    "train_data=h5_to_npy('in_data/train.h5',1200000)\n",
    "with open('out_data/train_jets.pkl', \"wb\") as f: pickle.dump(train_data, f, protocol=2)"
   ]
  },
  {
   "cell_type": "code",
   "execution_count": 4,
   "metadata": {
    "collapsed": true
   },
   "outputs": [],
   "source": [
    "val_data=h5_to_npy('in_data/val.h5',400000)\n",
    "with open('out_data/val_jets.pkl', \"wb\") as f: pickle.dump(val_data, f, protocol=2)"
   ]
  },
  {
   "cell_type": "code",
   "execution_count": 3,
   "metadata": {
    "collapsed": true
   },
   "outputs": [],
   "source": [
    "test_data=h5_to_npy('in_data/test.h5',400000)\n",
    "with open('out_data/test_jets.pkl', \"wb\") as f: pickle.dump(test_data, f, protocol=2)"
   ]
  },
  {
   "cell_type": "code",
   "execution_count": null,
   "metadata": {
    "collapsed": true
   },
   "outputs": [],
   "source": []
  },
  {
   "cell_type": "code",
   "execution_count": null,
   "metadata": {
    "collapsed": true
   },
   "outputs": [],
   "source": []
  }
 ],
 "metadata": {
  "kernelspec": {
   "display_name": "Python 3",
   "language": "python",
   "name": "python3"
  },
  "language_info": {
   "codemirror_mode": {
    "name": "ipython",
    "version": 3
   },
   "file_extension": ".py",
   "mimetype": "text/x-python",
   "name": "python",
   "nbconvert_exporter": "python",
   "pygments_lexer": "ipython3",
   "version": "3.6.6"
  }
 },
 "nbformat": 4,
 "nbformat_minor": 2
}
