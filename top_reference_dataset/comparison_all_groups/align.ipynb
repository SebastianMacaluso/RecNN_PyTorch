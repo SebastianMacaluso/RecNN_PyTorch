{
 "cells": [
  {
   "cell_type": "code",
   "execution_count": 1,
   "metadata": {},
   "outputs": [],
   "source": [
    "import numpy as np\n",
    "\n",
    "import pandas\n",
    "\n",
    "import sklearn.metrics as metrics\n",
    "\n",
    "import h5py"
   ]
  },
  {
   "cell_type": "code",
   "execution_count": 5,
   "metadata": {},
   "outputs": [],
   "source": [
    "#Update path\n",
    "path = \"\"\n",
    "\n",
    "\n",
    "def return_array(sample):\n",
    "\n",
    "    names = {\"efn\"     : \"EFN_model_outputs.npy\",\n",
    "             \"pfn\"     : \"PFN_model_outputs.npy\",\n",
    "             \"pcnn\"    : [\"P-CNN_ResNeXt_ParticleNet_9runs/P-CNN_v2_run{0}.npy\".format(i) for i in range(9)],\n",
    "             \"particlenet\" : [\"P-CNN_ResNeXt_ParticleNet_9runs/ParticleNet_v2_run{0}.npy\".format(i) for i in range(9)],\n",
    "             \"resnext\"  : [\"P-CNN_ResNeXt_ParticleNet_9runs/ResNeXt-50_v2_run{0}.npy\".format(i) for i in range(9)],\n",
    "             \"nsub8\" : \"8_body_v2_test_sets.npy\",\n",
    "             \"lbn\"   : \"lbn_ensemble9.npz\",\n",
    "             \"topo\"  : [\"topodnn_9runs/topodnn_{0}.npy\".format(i) for i in range(1,10)],\n",
    "             \n",
    "            }\n",
    "\n",
    "    if type(names[sample]) is str:\n",
    "        print(\"String\")\n",
    "        fn = path + names[sample]\n",
    "        events = np.load(fn)\n",
    "        \n",
    "        if sample == 'lbn':\n",
    "            events = events[\"outputs\"]\n",
    "            events = np.swapaxes(events,0,1)\n",
    "            events = 1.-events\n",
    "    else:\n",
    "        all_events = []\n",
    "        for fn in names[sample]:\n",
    "            fn = path + fn\n",
    "            all_events.append(np.load(fn))\n",
    "    \n",
    "        events = np.stack(all_events,axis=0)\n",
    "        \n",
    "    # nsub 8 sent 10 taggers not 9. Drop the last one\n",
    "    # also swap dimensions\n",
    "    # and invert order\n",
    "    if sample == \"nsub8\":\n",
    "        events = events[:,:9]\n",
    "        events = np.swapaxes(events,0,1)\n",
    "        events = events[:,::-1]\n",
    "        \n",
    "    return events"
   ]
  },
  {
   "cell_type": "code",
   "execution_count": 2,
   "metadata": {},
   "outputs": [],
   "source": [
    "# for testing\n",
    "# Updated path\n",
    "path_h5 = \"../in_data/\"\n",
    "truth = np.array(pandas.read_hdf(path_h5+\"test.h5\",\"table\",columns=[\"is_signal_new\"]))"
   ]
  },
  {
   "cell_type": "code",
   "execution_count": 3,
   "metadata": {},
   "outputs": [
    {
     "data": {
      "text/plain": [
       "(404000, 1)"
      ]
     },
     "execution_count": 3,
     "metadata": {},
     "output_type": "execute_result"
    }
   ],
   "source": [
    "np.shape(truth)"
   ]
  },
  {
   "cell_type": "code",
   "execution_count": 7,
   "metadata": {},
   "outputs": [
    {
     "name": "stdout",
     "output_type": "stream",
     "text": [
      "(9, 404000)\n"
     ]
    },
    {
     "data": {
      "text/plain": [
       "0.9715526393026008"
      ]
     },
     "execution_count": 7,
     "metadata": {},
     "output_type": "execute_result"
    }
   ],
   "source": [
    "ret = return_array(\"topo\")\n",
    "print(ret.shape)\n",
    "metrics.roc_auc_score(truth,ret[2])"
   ]
  },
  {
   "cell_type": "code",
   "execution_count": 18,
   "metadata": {},
   "outputs": [],
   "source": [
    "l = np.array([1, 2, 3, 4, 5])\n",
    "ll = np.random.choice(l, size=3, replace=False)"
   ]
  },
  {
   "cell_type": "code",
   "execution_count": 19,
   "metadata": {},
   "outputs": [
    {
     "data": {
      "text/plain": [
       "array([2, 4, 1])"
      ]
     },
     "execution_count": 19,
     "metadata": {},
     "output_type": "execute_result"
    }
   ],
   "source": [
    "ll"
   ]
  },
  {
   "cell_type": "code",
   "execution_count": 26,
   "metadata": {},
   "outputs": [
    {
     "data": {
      "text/plain": [
       "array([3, 2, 2])"
      ]
     },
     "execution_count": 26,
     "metadata": {},
     "output_type": "execute_result"
    }
   ],
   "source": [
    "np.random.choice(l, size=3, replace=False)"
   ]
  },
  {
   "cell_type": "code",
   "execution_count": null,
   "metadata": {},
   "outputs": [],
   "source": []
  }
 ],
 "metadata": {
  "kernelspec": {
   "display_name": "Python 3",
   "language": "python",
   "name": "python3"
  },
  "language_info": {
   "codemirror_mode": {
    "name": "ipython",
    "version": 3
   },
   "file_extension": ".py",
   "mimetype": "text/x-python",
   "name": "python",
   "nbconvert_exporter": "python",
   "pygments_lexer": "ipython3",
   "version": "3.6.6"
  }
 },
 "nbformat": 4,
 "nbformat_minor": 2
}
